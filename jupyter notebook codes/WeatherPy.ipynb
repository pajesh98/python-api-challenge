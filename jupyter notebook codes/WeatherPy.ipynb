{
 "cells": [
  {
   "cell_type": "markdown",
   "metadata": {},
   "source": [
    "# WeatherPy\n",
    "----\n",
    "\n",
    "#### Note\n",
    "* Instructions have been included for each segment. You do not have to follow them exactly, but they are included to help you think through the steps."
   ]
  },
  {
   "cell_type": "code",
   "execution_count": 1,
   "metadata": {
    "scrolled": true
   },
   "outputs": [],
   "source": [
    "# Dependencies and Setup\n",
    "import matplotlib.pyplot as plt\n",
    "import pandas as pd\n",
    "import numpy as np\n",
    "import requests\n",
    "import time\n",
    "from scipy.stats import linregress\n",
    "\n",
    "# Import API key\n",
    "import json\n",
    "from api_keys import weather_api_key\n",
    "\n",
    "# Incorporated citipy to determine city based on latitude and longitude\n",
    "from citipy import citipy\n",
    "\n",
    "# Output File (CSV)\n",
    "output_data_file = \"output_data/cities.csv\"\n",
    "\n",
    "# Range of latitudes and longitudes\n",
    "lat_range = (-90, 90)\n",
    "lng_range = (-180, 180)"
   ]
  },
  {
   "cell_type": "markdown",
   "metadata": {},
   "source": [
    "## Generate Cities List"
   ]
  },
  {
   "cell_type": "code",
   "execution_count": 2,
   "metadata": {},
   "outputs": [
    {
     "data": {
      "text/plain": [
       "624"
      ]
     },
     "execution_count": 2,
     "metadata": {},
     "output_type": "execute_result"
    }
   ],
   "source": [
    "# List for holding lat_lngs and cities\n",
    "lat_lngs = []\n",
    "cities = []\n",
    "\n",
    "# Create a set of random lat and lng combinations\n",
    "lats = np.random.uniform(lat_range[0], lat_range[1], size=1500)\n",
    "lngs = np.random.uniform(lng_range[0], lng_range[1], size=1500)\n",
    "lat_lngs = zip(lats, lngs)\n",
    "\n",
    "# Identify nearest city for each lat, lng combination\n",
    "for lat_lng in lat_lngs:\n",
    "    city = citipy.nearest_city(lat_lng[0], lat_lng[1]).city_name\n",
    "    \n",
    "    # If the city is unique, then add it to a our cities list\n",
    "    if city not in cities:\n",
    "        cities.append(city)\n",
    "\n",
    "# Print the city count to confirm sufficient count\n",
    "len(cities)"
   ]
  },
  {
   "cell_type": "code",
   "execution_count": 3,
   "metadata": {},
   "outputs": [],
   "source": [
    "city_name = []\n",
    "cloudiness = []\n",
    "country = []\n",
    "humidity = []\n",
    "latitude = []\n",
    "longitude = []\n",
    "max_temp = []\n",
    "date = []\n",
    "wind_speed = []\n",
    "index_counter = 0\n",
    "set_counter = 1"
   ]
  },
  {
   "cell_type": "markdown",
   "metadata": {},
   "source": [
    "### Perform API Calls\n",
    "* Perform a weather check on each city using a series of successive API calls.\n",
    "* Include a print log of each city as it'sbeing processed (with the city number and city name).\n"
   ]
  },
  {
   "cell_type": "code",
   "execution_count": 4,
   "metadata": {
    "scrolled": false
   },
   "outputs": [
    {
     "name": "stdout",
     "output_type": "stream",
     "text": [
      "Beginning Data Retrieval\n",
      "---------------------------------\n",
      "Processing Record 1 of Set 1 | prince rupert\n",
      "City not found. Skipping...\n",
      "Processing Record 2 of Set 1 | rikitea\n",
      "Processing Record 3 of Set 1 | tuktoyaktuk\n",
      "Processing Record 4 of Set 1 | ushuaia\n",
      "City not found. Skipping...\n",
      "Processing Record 5 of Set 1 | raga\n",
      "Processing Record 6 of Set 1 | kupang\n",
      "Processing Record 7 of Set 1 | port alfred\n",
      "Processing Record 8 of Set 1 | luderitz\n",
      "Processing Record 9 of Set 1 | norman wells\n",
      "Processing Record 10 of Set 1 | hobart\n",
      "Processing Record 11 of Set 1 | port augusta\n",
      "Processing Record 12 of Set 1 | rundu\n",
      "Processing Record 13 of Set 1 | pahrump\n",
      "Processing Record 14 of Set 1 | albany\n",
      "Processing Record 15 of Set 1 | saskylakh\n",
      "City not found. Skipping...\n",
      "Processing Record 16 of Set 1 | pochutla\n",
      "Processing Record 17 of Set 1 | pierre\n",
      "Processing Record 18 of Set 1 | kamenka\n",
      "City not found. Skipping...\n",
      "Processing Record 19 of Set 1 | dwarka\n",
      "Processing Record 20 of Set 1 | mataura\n",
      "City not found. Skipping...\n",
      "Processing Record 21 of Set 1 | bage\n",
      "Processing Record 22 of Set 1 | hilo\n",
      "Processing Record 23 of Set 1 | qaanaaq\n",
      "Processing Record 24 of Set 1 | hermanus\n",
      "Processing Record 25 of Set 1 | lorengau\n",
      "Processing Record 26 of Set 1 | bonavista\n",
      "Processing Record 27 of Set 1 | bluff\n",
      "Processing Record 28 of Set 1 | butaritari\n",
      "Processing Record 29 of Set 1 | takoradi\n",
      "Processing Record 30 of Set 1 | lasa\n",
      "Processing Record 31 of Set 1 | fairbanks\n",
      "Processing Record 32 of Set 1 | antsohihy\n",
      "Processing Record 33 of Set 1 | kapaa\n",
      "Processing Record 34 of Set 1 | bredasdorp\n",
      "Processing Record 35 of Set 1 | longyearbyen\n",
      "Processing Record 36 of Set 1 | jamestown\n",
      "Processing Record 37 of Set 1 | port macquarie\n",
      "Processing Record 38 of Set 1 | clyde river\n",
      "Processing Record 39 of Set 1 | aklavik\n",
      "Processing Record 40 of Set 1 | bengkulu\n",
      "Processing Record 41 of Set 1 | ribeira grande\n",
      "Processing Record 42 of Set 1 | port blair\n",
      "Processing Record 43 of Set 1 | roma\n",
      "Processing Record 44 of Set 1 | nome\n",
      "Processing Record 45 of Set 1 | busselton\n",
      "Processing Record 46 of Set 1 | georgetown\n",
      "Processing Record 47 of Set 1 | latung\n",
      "Processing Record 48 of Set 1 | college\n",
      "Processing Record 49 of Set 1 | murgab\n",
      "Processing Record 50 of Set 1 | saint-georges\n",
      "Processing Record 0 of Set 2 | yellowknife\n",
      "Processing Record 1 of Set 2 | pevek\n",
      "City not found. Skipping...\n",
      "Processing Record 2 of Set 2 | chuy\n",
      "Processing Record 3 of Set 2 | gravdal\n",
      "Processing Record 4 of Set 2 | cape town\n",
      "Processing Record 5 of Set 2 | tabuk\n",
      "Processing Record 6 of Set 2 | vaini\n",
      "Processing Record 7 of Set 2 | upernavik\n",
      "Processing Record 8 of Set 2 | zhoucheng\n",
      "Processing Record 9 of Set 2 | houston\n",
      "Processing Record 10 of Set 2 | biak\n",
      "Processing Record 11 of Set 2 | skibbereen\n",
      "Processing Record 12 of Set 2 | chara\n",
      "City not found. Skipping...\n",
      "Processing Record 13 of Set 2 | hithadhoo\n",
      "Processing Record 14 of Set 2 | krasnoselkup\n",
      "Processing Record 15 of Set 2 | high level\n",
      "Processing Record 16 of Set 2 | puerto ayora\n",
      "Processing Record 17 of Set 2 | crotone\n",
      "Processing Record 18 of Set 2 | hasaki\n",
      "Processing Record 19 of Set 2 | havoysund\n",
      "Processing Record 20 of Set 2 | lagoa\n",
      "Processing Record 21 of Set 2 | kapuskasing\n",
      "Processing Record 22 of Set 2 | sitangkai\n",
      "Processing Record 23 of Set 2 | husavik\n",
      "Processing Record 24 of Set 2 | mandera\n",
      "Processing Record 25 of Set 2 | nizwa\n",
      "Processing Record 26 of Set 2 | belaya gora\n",
      "Processing Record 27 of Set 2 | kavieng\n",
      "Processing Record 28 of Set 2 | tiksi\n",
      "City not found. Skipping...\n",
      "Processing Record 29 of Set 2 | ontario\n",
      "Processing Record 30 of Set 2 | kieta\n",
      "Processing Record 31 of Set 2 | dikson\n",
      "Processing Record 32 of Set 2 | skelleftea\n",
      "Processing Record 33 of Set 2 | hamilton\n",
      "Processing Record 34 of Set 2 | klaksvik\n",
      "Processing Record 35 of Set 2 | castro\n",
      "Processing Record 36 of Set 2 | macklin\n",
      "Processing Record 37 of Set 2 | manokwari\n",
      "Processing Record 38 of Set 2 | mahebourg\n",
      "Processing Record 39 of Set 2 | bahia blanca\n",
      "Processing Record 40 of Set 2 | poya\n",
      "Processing Record 41 of Set 2 | twin falls\n",
      "Processing Record 42 of Set 2 | altamont\n",
      "Processing Record 43 of Set 2 | acarau\n",
      "Processing Record 44 of Set 2 | dakar\n",
      "City not found. Skipping...\n",
      "City not found. Skipping...\n",
      "Processing Record 45 of Set 2 | vao\n",
      "Processing Record 46 of Set 2 | buala\n",
      "Processing Record 47 of Set 2 | cabo san lucas\n",
      "Processing Record 48 of Set 2 | batemans bay\n",
      "Processing Record 49 of Set 2 | kloulklubed\n",
      "Processing Record 50 of Set 2 | thompson\n",
      "Processing Record 0 of Set 3 | platanos\n",
      "Processing Record 1 of Set 3 | waipawa\n",
      "Processing Record 2 of Set 3 | tessalit\n",
      "Processing Record 3 of Set 3 | faya\n",
      "Processing Record 4 of Set 3 | inongo\n",
      "Processing Record 5 of Set 3 | port elizabeth\n",
      "Processing Record 6 of Set 3 | atuona\n",
      "Processing Record 7 of Set 3 | yar-sale\n",
      "Processing Record 8 of Set 3 | iqaluit\n",
      "Processing Record 9 of Set 3 | punta arenas\n",
      "Processing Record 10 of Set 3 | saint-pierre\n",
      "Processing Record 11 of Set 3 | nikolskoye\n",
      "Processing Record 12 of Set 3 | katobu\n",
      "Processing Record 13 of Set 3 | lebu\n",
      "Processing Record 14 of Set 3 | chokurdakh\n",
      "Processing Record 15 of Set 3 | anadyr\n",
      "Processing Record 16 of Set 3 | pokhara\n",
      "Processing Record 17 of Set 3 | san andres\n",
      "Processing Record 18 of Set 3 | kununurra\n",
      "Processing Record 19 of Set 3 | port hardy\n",
      "Processing Record 20 of Set 3 | peace river\n",
      "Processing Record 21 of Set 3 | kahului\n",
      "Processing Record 22 of Set 3 | dunedin\n",
      "Processing Record 23 of Set 3 | tiarei\n",
      "Processing Record 24 of Set 3 | portland\n",
      "Processing Record 25 of Set 3 | orlovskiy\n",
      "Processing Record 26 of Set 3 | svetlogorsk\n",
      "City not found. Skipping...\n",
      "Processing Record 27 of Set 3 | coquimbo\n",
      "Processing Record 28 of Set 3 | nantucket\n",
      "Processing Record 29 of Set 3 | misratah\n",
      "Processing Record 30 of Set 3 | krutikha\n",
      "Processing Record 31 of Set 3 | mayumba\n",
      "Processing Record 32 of Set 3 | cherskiy\n",
      "Processing Record 33 of Set 3 | los llanos de aridane\n",
      "Processing Record 34 of Set 3 | broken hill\n",
      "Processing Record 35 of Set 3 | tabatinga\n",
      "Processing Record 36 of Set 3 | saint-philippe\n",
      "Processing Record 37 of Set 3 | nioro\n",
      "Processing Record 38 of Set 3 | faanui\n",
      "Processing Record 39 of Set 3 | cayenne\n",
      "Processing Record 40 of Set 3 | sitamarhi\n",
      "Processing Record 41 of Set 3 | khatanga\n",
      "Processing Record 42 of Set 3 | saint anthony\n",
      "Processing Record 43 of Set 3 | rawson\n",
      "Processing Record 44 of Set 3 | vestmannaeyjar\n",
      "Processing Record 45 of Set 3 | cortez\n",
      "Processing Record 46 of Set 3 | norwalk\n",
      "Processing Record 47 of Set 3 | daru\n",
      "City not found. Skipping...\n",
      "Processing Record 48 of Set 3 | airai\n",
      "Processing Record 49 of Set 3 | bowie\n",
      "Processing Record 50 of Set 3 | poum\n",
      "Processing Record 0 of Set 4 | maarianhamina\n",
      "Processing Record 1 of Set 4 | coihaique\n",
      "Processing Record 2 of Set 4 | bambous virieux\n",
      "Processing Record 3 of Set 4 | muroto\n",
      "Processing Record 4 of Set 4 | nieuw amsterdam\n",
      "Processing Record 5 of Set 4 | neryungri\n",
      "Processing Record 6 of Set 4 | ostersund\n",
      "Processing Record 7 of Set 4 | esperance\n",
      "Processing Record 8 of Set 4 | gombong\n",
      "Processing Record 9 of Set 4 | salinopolis\n",
      "Processing Record 10 of Set 4 | ahipara\n",
      "Processing Record 11 of Set 4 | rio grande\n",
      "Processing Record 12 of Set 4 | arraial do cabo\n",
      "City not found. Skipping...\n",
      "Processing Record 13 of Set 4 | mengcheng\n",
      "Processing Record 14 of Set 4 | rudbar\n",
      "Processing Record 15 of Set 4 | east london\n",
      "Processing Record 16 of Set 4 | ust-maya\n",
      "Processing Record 17 of Set 4 | priargunsk\n",
      "Processing Record 18 of Set 4 | fortuna\n",
      "Processing Record 19 of Set 4 | puerto escondido\n",
      "Processing Record 20 of Set 4 | north bend\n",
      "Processing Record 21 of Set 4 | ulladulla\n",
      "Processing Record 22 of Set 4 | guerrero negro\n",
      "Processing Record 23 of Set 4 | sao filipe\n",
      "Processing Record 24 of Set 4 | senanga\n",
      "Processing Record 25 of Set 4 | mar del plata\n",
      "Processing Record 26 of Set 4 | san quintin\n",
      "Processing Record 27 of Set 4 | colonia\n",
      "Processing Record 28 of Set 4 | necochea\n",
      "Processing Record 29 of Set 4 | victoria\n",
      "Processing Record 30 of Set 4 | galle\n",
      "Processing Record 31 of Set 4 | sitka\n",
      "Processing Record 32 of Set 4 | hofn\n",
      "Processing Record 33 of Set 4 | westport\n",
      "Processing Record 34 of Set 4 | radstadt\n",
      "Processing Record 35 of Set 4 | rivadavia\n",
      "Processing Record 36 of Set 4 | dubti\n",
      "City not found. Skipping...\n",
      "Processing Record 37 of Set 4 | kruisfontein\n"
     ]
    },
    {
     "name": "stdout",
     "output_type": "stream",
     "text": [
      "Processing Record 38 of Set 4 | nishihara\n",
      "Processing Record 39 of Set 4 | thung song\n",
      "Processing Record 40 of Set 4 | khasan\n",
      "Processing Record 41 of Set 4 | abu dhabi\n",
      "Processing Record 42 of Set 4 | grand gaube\n",
      "City not found. Skipping...\n",
      "Processing Record 43 of Set 4 | mount isa\n",
      "Processing Record 44 of Set 4 | pacific grove\n",
      "Processing Record 45 of Set 4 | xuanhua\n",
      "Processing Record 46 of Set 4 | nsoko\n",
      "Processing Record 47 of Set 4 | bathsheba\n",
      "Processing Record 48 of Set 4 | souillac\n",
      "Processing Record 49 of Set 4 | havelock\n",
      "Processing Record 50 of Set 4 | caravelas\n",
      "Processing Record 0 of Set 5 | katsuura\n",
      "Processing Record 1 of Set 5 | santa rosa\n",
      "Processing Record 2 of Set 5 | iwanai\n",
      "Processing Record 3 of Set 5 | tasiilaq\n",
      "Processing Record 4 of Set 5 | bethel\n",
      "Processing Record 5 of Set 5 | jarocin\n",
      "Processing Record 6 of Set 5 | concepcion del oro\n",
      "Processing Record 7 of Set 5 | baykit\n",
      "Processing Record 8 of Set 5 | ponta do sol\n",
      "Processing Record 9 of Set 5 | constitucion\n",
      "Processing Record 10 of Set 5 | dalvik\n",
      "Processing Record 11 of Set 5 | carnarvon\n",
      "Processing Record 12 of Set 5 | vila franca do campo\n",
      "Processing Record 13 of Set 5 | isangel\n",
      "Processing Record 14 of Set 5 | saldanha\n",
      "Processing Record 15 of Set 5 | bubaque\n",
      "Processing Record 16 of Set 5 | ostrovnoy\n",
      "Processing Record 17 of Set 5 | boditi\n",
      "Processing Record 18 of Set 5 | saint george\n",
      "Processing Record 19 of Set 5 | morondava\n",
      "Processing Record 20 of Set 5 | skovorodino\n",
      "Processing Record 21 of Set 5 | barrow\n",
      "Processing Record 22 of Set 5 | qui nhon\n",
      "Processing Record 23 of Set 5 | ouadda\n",
      "Processing Record 24 of Set 5 | marystown\n",
      "Processing Record 25 of Set 5 | ucluelet\n",
      "City not found. Skipping...\n",
      "Processing Record 26 of Set 5 | sabzevar\n",
      "Processing Record 27 of Set 5 | alofi\n",
      "Processing Record 28 of Set 5 | port lincoln\n",
      "Processing Record 29 of Set 5 | cedartown\n",
      "Processing Record 30 of Set 5 | sharjah\n",
      "Processing Record 31 of Set 5 | bosobolo\n",
      "Processing Record 32 of Set 5 | rock sound\n",
      "Processing Record 33 of Set 5 | stromness\n",
      "Processing Record 34 of Set 5 | marataizes\n",
      "Processing Record 35 of Set 5 | tsaratanana\n",
      "Processing Record 36 of Set 5 | tazovskiy\n",
      "Processing Record 37 of Set 5 | guanica\n",
      "Processing Record 38 of Set 5 | cap malheureux\n",
      "Processing Record 39 of Set 5 | basco\n",
      "Processing Record 40 of Set 5 | torbay\n",
      "Processing Record 41 of Set 5 | orange cove\n",
      "Processing Record 42 of Set 5 | makurdi\n",
      "Processing Record 43 of Set 5 | la ronge\n",
      "Processing Record 44 of Set 5 | rovaniemi\n",
      "Processing Record 45 of Set 5 | makokou\n",
      "Processing Record 46 of Set 5 | sao joao da barra\n",
      "Processing Record 47 of Set 5 | ipixuna\n",
      "Processing Record 48 of Set 5 | lleida\n",
      "Processing Record 49 of Set 5 | laguna\n",
      "Processing Record 50 of Set 5 | houma\n",
      "Processing Record 0 of Set 6 | oktyabrskoye\n",
      "Processing Record 1 of Set 6 | mosquera\n",
      "Processing Record 2 of Set 6 | zhangjiakou\n",
      "Processing Record 3 of Set 6 | perth\n",
      "Processing Record 4 of Set 6 | saint-joseph\n",
      "Processing Record 5 of Set 6 | new norfolk\n",
      "Processing Record 6 of Set 6 | mbandaka\n",
      "Processing Record 7 of Set 6 | tabas\n",
      "Processing Record 8 of Set 6 | dingle\n",
      "Processing Record 9 of Set 6 | vieques\n",
      "Processing Record 10 of Set 6 | tuatapere\n",
      "Processing Record 11 of Set 6 | camrose\n",
      "Processing Record 12 of Set 6 | pinas\n",
      "Processing Record 13 of Set 6 | milagres\n",
      "Processing Record 14 of Set 6 | cruz grande\n",
      "Processing Record 15 of Set 6 | kalemie\n",
      "City not found. Skipping...\n",
      "Processing Record 16 of Set 6 | kodiak\n",
      "Processing Record 17 of Set 6 | antalaha\n",
      "Processing Record 18 of Set 6 | pirapora\n",
      "Processing Record 19 of Set 6 | peleduy\n",
      "Processing Record 20 of Set 6 | sijunjung\n",
      "Processing Record 21 of Set 6 | nkoteng\n",
      "Processing Record 22 of Set 6 | saint-francois\n",
      "Processing Record 23 of Set 6 | nohar\n",
      "Processing Record 24 of Set 6 | sept-iles\n",
      "Processing Record 25 of Set 6 | lishu\n",
      "Processing Record 26 of Set 6 | seoul\n",
      "Processing Record 27 of Set 6 | yerbogachen\n",
      "Processing Record 28 of Set 6 | katherine\n",
      "Processing Record 29 of Set 6 | gobabis\n",
      "Processing Record 30 of Set 6 | pineville\n",
      "Processing Record 31 of Set 6 | tura\n",
      "Processing Record 32 of Set 6 | vostok\n",
      "City not found. Skipping...\n",
      "Processing Record 33 of Set 6 | cururupu\n",
      "Processing Record 34 of Set 6 | ituacu\n",
      "Processing Record 35 of Set 6 | labuhan\n",
      "Processing Record 36 of Set 6 | chettipalaiyam\n",
      "Processing Record 37 of Set 6 | batagay\n",
      "Processing Record 38 of Set 6 | zhigansk\n",
      "Processing Record 39 of Set 6 | tomigusuku\n",
      "Processing Record 40 of Set 6 | amuntai\n",
      "Processing Record 41 of Set 6 | san patricio\n",
      "Processing Record 42 of Set 6 | pocos de caldas\n",
      "Processing Record 43 of Set 6 | mana\n",
      "Processing Record 44 of Set 6 | sibu\n",
      "Processing Record 45 of Set 6 | tema\n",
      "Processing Record 46 of Set 6 | osakarovka\n",
      "Processing Record 47 of Set 6 | sobradinho\n",
      "Processing Record 48 of Set 6 | cairns\n",
      "Processing Record 49 of Set 6 | port-gentil\n",
      "Processing Record 50 of Set 6 | merauke\n",
      "Processing Record 0 of Set 7 | batetskiy\n",
      "Processing Record 1 of Set 7 | yumen\n",
      "Processing Record 2 of Set 7 | pangai\n",
      "Processing Record 3 of Set 7 | chirongui\n",
      "Processing Record 4 of Set 7 | coari\n",
      "Processing Record 5 of Set 7 | shaki\n",
      "Processing Record 6 of Set 7 | nouadhibou\n",
      "Processing Record 7 of Set 7 | palauig\n",
      "Processing Record 8 of Set 7 | santa cruz cabralia\n",
      "City not found. Skipping...\n",
      "Processing Record 9 of Set 7 | liverpool\n",
      "Processing Record 10 of Set 7 | san cristobal\n",
      "Processing Record 11 of Set 7 | codrington\n",
      "Processing Record 12 of Set 7 | miri\n",
      "City not found. Skipping...\n",
      "Processing Record 13 of Set 7 | salihorsk\n",
      "Processing Record 14 of Set 7 | porto novo\n",
      "City not found. Skipping...\n",
      "Processing Record 15 of Set 7 | wajid\n",
      "Processing Record 16 of Set 7 | gameleira\n",
      "Processing Record 17 of Set 7 | paragominas\n",
      "Processing Record 18 of Set 7 | roald\n",
      "Processing Record 19 of Set 7 | kattivakkam\n",
      "Processing Record 20 of Set 7 | labuan\n",
      "Processing Record 21 of Set 7 | geraldton\n",
      "Processing Record 22 of Set 7 | marawi\n",
      "Processing Record 23 of Set 7 | volya\n",
      "Processing Record 24 of Set 7 | smithers\n",
      "Processing Record 25 of Set 7 | kaitangata\n",
      "Processing Record 26 of Set 7 | la crosse\n",
      "Processing Record 27 of Set 7 | ayorou\n",
      "Processing Record 28 of Set 7 | keita\n",
      "Processing Record 29 of Set 7 | talnakh\n",
      "Processing Record 30 of Set 7 | makakilo city\n",
      "Processing Record 31 of Set 7 | aykhal\n",
      "City not found. Skipping...\n",
      "Processing Record 32 of Set 7 | yenagoa\n",
      "Processing Record 33 of Set 7 | bayshore gardens\n",
      "Processing Record 34 of Set 7 | paratebueno\n",
      "Processing Record 35 of Set 7 | sobolevo\n",
      "Processing Record 36 of Set 7 | lompoc\n",
      "Processing Record 37 of Set 7 | oistins\n",
      "Processing Record 38 of Set 7 | grand-santi\n",
      "Processing Record 39 of Set 7 | bosaso\n",
      "Processing Record 40 of Set 7 | safranbolu\n",
      "Processing Record 41 of Set 7 | mehtar lam\n",
      "Processing Record 42 of Set 7 | cidreira\n",
      "Processing Record 43 of Set 7 | avera\n",
      "Processing Record 44 of Set 7 | mangrol\n",
      "City not found. Skipping...\n",
      "Processing Record 45 of Set 7 | abha\n",
      "Processing Record 46 of Set 7 | atar\n",
      "Processing Record 47 of Set 7 | novaya zaimka\n",
      "City not found. Skipping...\n",
      "City not found. Skipping...\n",
      "Processing Record 48 of Set 7 | mantua\n",
      "City not found. Skipping...\n",
      "Processing Record 49 of Set 7 | noumea\n",
      "Processing Record 50 of Set 7 | jaru\n",
      "Processing Record 0 of Set 8 | baherden\n",
      "Processing Record 1 of Set 8 | avarua\n",
      "Processing Record 2 of Set 8 | atambua\n",
      "Processing Record 3 of Set 8 | carauari\n",
      "Processing Record 4 of Set 8 | puri\n",
      "Processing Record 5 of Set 8 | hambantota\n",
      "Processing Record 6 of Set 8 | honningsvag\n",
      "Processing Record 7 of Set 8 | wiarton\n",
      "Processing Record 8 of Set 8 | ixtapa\n",
      "Processing Record 9 of Set 8 | kilindoni\n",
      "Processing Record 10 of Set 8 | chiredzi\n",
      "Processing Record 11 of Set 8 | vernon\n",
      "Processing Record 12 of Set 8 | poltavka\n",
      "Processing Record 13 of Set 8 | alice springs\n",
      "Processing Record 14 of Set 8 | temiscaming\n",
      "Processing Record 15 of Set 8 | aksay\n",
      "City not found. Skipping...\n",
      "Processing Record 16 of Set 8 | khani\n",
      "Processing Record 17 of Set 8 | severo-kurilsk\n",
      "Processing Record 18 of Set 8 | vilcun\n",
      "Processing Record 19 of Set 8 | aloleng\n",
      "Processing Record 20 of Set 8 | tabou\n",
      "Processing Record 21 of Set 8 | narsaq\n",
      "Processing Record 22 of Set 8 | maymyo\n",
      "Processing Record 23 of Set 8 | somotillo\n",
      "Processing Record 24 of Set 8 | la seyne-sur-mer\n",
      "Processing Record 25 of Set 8 | salalah\n"
     ]
    },
    {
     "name": "stdout",
     "output_type": "stream",
     "text": [
      "Processing Record 26 of Set 8 | tokur\n",
      "Processing Record 27 of Set 8 | tahe\n",
      "Processing Record 28 of Set 8 | pisco\n",
      "City not found. Skipping...\n",
      "Processing Record 29 of Set 8 | sur\n",
      "Processing Record 30 of Set 8 | molina\n",
      "Processing Record 31 of Set 8 | villarrica\n",
      "Processing Record 32 of Set 8 | mporokoso\n",
      "City not found. Skipping...\n",
      "Processing Record 33 of Set 8 | kasongo\n",
      "Processing Record 34 of Set 8 | termiz\n",
      "Processing Record 35 of Set 8 | zhuhai\n",
      "Processing Record 36 of Set 8 | genhe\n",
      "Processing Record 37 of Set 8 | bilma\n",
      "Processing Record 38 of Set 8 | ballarat\n",
      "City not found. Skipping...\n",
      "Processing Record 39 of Set 8 | kongwa\n",
      "City not found. Skipping...\n",
      "Processing Record 40 of Set 8 | berlevag\n",
      "City not found. Skipping...\n",
      "Processing Record 41 of Set 8 | aden\n",
      "Processing Record 42 of Set 8 | kavaratti\n",
      "Processing Record 43 of Set 8 | shelburne\n",
      "Processing Record 44 of Set 8 | vanimo\n",
      "Processing Record 45 of Set 8 | acari\n",
      "Processing Record 46 of Set 8 | okhotsk\n",
      "Processing Record 47 of Set 8 | mitchell\n",
      "Processing Record 48 of Set 8 | rafai\n",
      "Processing Record 49 of Set 8 | te anau\n",
      "Processing Record 50 of Set 8 | taoudenni\n",
      "Processing Record 0 of Set 9 | sola\n",
      "Processing Record 1 of Set 9 | ancud\n",
      "Processing Record 2 of Set 9 | ugoofaaru\n",
      "Processing Record 3 of Set 9 | flinders\n",
      "Processing Record 4 of Set 9 | bambanglipuro\n",
      "Processing Record 5 of Set 9 | olinda\n",
      "Processing Record 6 of Set 9 | mareeba\n",
      "Processing Record 7 of Set 9 | porto torres\n",
      "Processing Record 8 of Set 9 | svetlyy\n",
      "Processing Record 9 of Set 9 | la libertad\n",
      "Processing Record 10 of Set 9 | palencia\n",
      "Processing Record 11 of Set 9 | praia\n",
      "Processing Record 12 of Set 9 | beringovskiy\n",
      "Processing Record 13 of Set 9 | mahbubabad\n",
      "Processing Record 14 of Set 9 | balikpapan\n",
      "Processing Record 15 of Set 9 | gerash\n",
      "Processing Record 16 of Set 9 | walvis bay\n",
      "Processing Record 17 of Set 9 | fort nelson\n",
      "Processing Record 18 of Set 9 | kibala\n",
      "City not found. Skipping...\n",
      "Processing Record 19 of Set 9 | campina grande do sul\n",
      "Processing Record 20 of Set 9 | chateaubelair\n",
      "Processing Record 21 of Set 9 | asau\n",
      "Processing Record 22 of Set 9 | zhangye\n",
      "Processing Record 23 of Set 9 | juegang\n",
      "City not found. Skipping...\n",
      "Processing Record 24 of Set 9 | kolosovka\n",
      "Processing Record 25 of Set 9 | madang\n",
      "Processing Record 26 of Set 9 | qaqortoq\n",
      "Processing Record 27 of Set 9 | bowen\n",
      "Processing Record 28 of Set 9 | provideniya\n",
      "City not found. Skipping...\n",
      "Processing Record 29 of Set 9 | mitu\n",
      "Processing Record 30 of Set 9 | leningradskiy\n",
      "City not found. Skipping...\n",
      "Processing Record 31 of Set 9 | tilichiki\n",
      "City not found. Skipping...\n",
      "Processing Record 32 of Set 9 | navrongo\n",
      "Processing Record 33 of Set 9 | brae\n",
      "Processing Record 34 of Set 9 | nelson bay\n",
      "Processing Record 35 of Set 9 | mukhen\n",
      "Processing Record 36 of Set 9 | lida\n",
      "Processing Record 37 of Set 9 | bonthe\n",
      "Processing Record 38 of Set 9 | thinadhoo\n",
      "Processing Record 39 of Set 9 | changtu\n",
      "Processing Record 40 of Set 9 | vammala\n",
      "Processing Record 41 of Set 9 | atasu\n",
      "Processing Record 42 of Set 9 | la paz\n",
      "Processing Record 43 of Set 9 | pangnirtung\n",
      "Processing Record 44 of Set 9 | auray\n",
      "Processing Record 45 of Set 9 | gainesville\n",
      "Processing Record 46 of Set 9 | karrapur\n",
      "Processing Record 47 of Set 9 | moree\n",
      "Processing Record 48 of Set 9 | mosjoen\n",
      "Processing Record 49 of Set 9 | alyangula\n",
      "Processing Record 50 of Set 9 | porto nacional\n",
      "Processing Record 0 of Set 10 | xining\n",
      "Processing Record 1 of Set 10 | bulgan\n",
      "Processing Record 2 of Set 10 | mount gambier\n",
      "Processing Record 3 of Set 10 | emerald\n",
      "Processing Record 4 of Set 10 | oranjemund\n",
      "Processing Record 5 of Set 10 | tukrah\n",
      "Processing Record 6 of Set 10 | rocha\n",
      "Processing Record 7 of Set 10 | betsiamites\n",
      "Processing Record 8 of Set 10 | burgeo\n",
      "Processing Record 9 of Set 10 | yenotayevka\n",
      "Processing Record 10 of Set 10 | kuantan\n",
      "Processing Record 11 of Set 10 | nanyang\n",
      "Processing Record 12 of Set 10 | carballo\n",
      "City not found. Skipping...\n",
      "Processing Record 13 of Set 10 | manicore\n",
      "Processing Record 14 of Set 10 | nabire\n",
      "Processing Record 15 of Set 10 | fortuna foothills\n",
      "City not found. Skipping...\n",
      "Processing Record 16 of Set 10 | quatre cocos\n",
      "City not found. Skipping...\n",
      "Processing Record 17 of Set 10 | krasnozatonskiy\n",
      "Processing Record 18 of Set 10 | puerto carreno\n",
      "Processing Record 19 of Set 10 | tezu\n",
      "Processing Record 20 of Set 10 | arica\n",
      "Processing Record 21 of Set 10 | igarka\n",
      "Processing Record 22 of Set 10 | atikokan\n",
      "Processing Record 23 of Set 10 | sambava\n",
      "Processing Record 24 of Set 10 | calvinia\n",
      "Processing Record 25 of Set 10 | mollendo\n",
      "Processing Record 26 of Set 10 | henties bay\n",
      "Processing Record 27 of Set 10 | pangkalanbuun\n",
      "Processing Record 28 of Set 10 | fairview\n",
      "City not found. Skipping...\n",
      "Processing Record 29 of Set 10 | weinan\n",
      "Processing Record 30 of Set 10 | jiwani\n",
      "Processing Record 31 of Set 10 | port alberni\n",
      "Processing Record 32 of Set 10 | arlit\n",
      "Processing Record 33 of Set 10 | ust-tsilma\n",
      "Processing Record 34 of Set 10 | dutse\n",
      "Processing Record 35 of Set 10 | hervey bay\n",
      "Processing Record 36 of Set 10 | waingapu\n",
      "Processing Record 37 of Set 10 | artyom\n",
      "Processing Record 38 of Set 10 | dukat\n",
      "Processing Record 39 of Set 10 | bolgar\n",
      "Processing Record 40 of Set 10 | kozhva\n",
      "Processing Record 41 of Set 10 | bainbridge\n",
      "Processing Record 42 of Set 10 | hobyo\n",
      "Processing Record 43 of Set 10 | nanortalik\n",
      "Processing Record 44 of Set 10 | ambilobe\n",
      "Processing Record 45 of Set 10 | surt\n",
      "Processing Record 46 of Set 10 | indian trail\n",
      "Processing Record 47 of Set 10 | puerto madryn\n",
      "Processing Record 48 of Set 10 | kungurtug\n",
      "City not found. Skipping...\n",
      "Processing Record 49 of Set 10 | beloha\n",
      "Processing Record 50 of Set 10 | tijucas\n",
      "City not found. Skipping...\n",
      "City not found. Skipping...\n",
      "Processing Record 0 of Set 11 | jalu\n",
      "Processing Record 1 of Set 11 | peniche\n",
      "Processing Record 2 of Set 11 | brownsville\n",
      "Processing Record 3 of Set 11 | ha tinh\n",
      "Processing Record 4 of Set 11 | terney\n",
      "Processing Record 5 of Set 11 | elat\n",
      "Processing Record 6 of Set 11 | kamaishi\n",
      "Processing Record 7 of Set 11 | awbari\n",
      "Processing Record 8 of Set 11 | mranggen\n",
      "Processing Record 9 of Set 11 | alto piquiri\n",
      "Processing Record 10 of Set 11 | balezino\n",
      "Processing Record 11 of Set 11 | padang\n",
      "Processing Record 12 of Set 11 | oda\n",
      "Processing Record 13 of Set 11 | mahibadhoo\n",
      "Processing Record 14 of Set 11 | nassjo\n",
      "Processing Record 15 of Set 11 | hualmay\n",
      "Processing Record 16 of Set 11 | taltal\n",
      "City not found. Skipping...\n",
      "Processing Record 17 of Set 11 | itaituba\n",
      "Processing Record 18 of Set 11 | dharampuri\n",
      "Processing Record 19 of Set 11 | ilulissat\n",
      "Processing Record 20 of Set 11 | ewa beach\n",
      "Processing Record 21 of Set 11 | linjiang\n",
      "Processing Record 22 of Set 11 | aitape\n",
      "Processing Record 23 of Set 11 | ilhabela\n",
      "Processing Record 24 of Set 11 | anshun\n",
      "Processing Record 25 of Set 11 | gotsu\n",
      "Processing Record 26 of Set 11 | lubsko\n",
      "Processing Record 27 of Set 11 | derzhavinsk\n",
      "Processing Record 28 of Set 11 | naze\n",
      "Processing Record 29 of Set 11 | kumi\n",
      "Processing Record 30 of Set 11 | komsomolets\n",
      "Processing Record 31 of Set 11 | lavrentiya\n",
      "Processing Record 32 of Set 11 | sujiatun\n",
      "City not found. Skipping...\n",
      "Processing Record 33 of Set 11 | foumban\n",
      "Processing Record 34 of Set 11 | staryy nadym\n",
      "Processing Record 35 of Set 11 | suslovo\n",
      "Processing Record 36 of Set 11 | lerwick\n",
      "Processing Record 37 of Set 11 | kushmurun\n",
      "Processing Record 38 of Set 11 | weligama\n",
      "Processing Record 39 of Set 11 | hovd\n",
      "Processing Record 40 of Set 11 | koumac\n",
      "City not found. Skipping...\n",
      "Processing Record 41 of Set 11 | shihezi\n",
      "Processing Record 42 of Set 11 | praya\n",
      "Processing Record 43 of Set 11 | namatanai\n",
      "Processing Record 44 of Set 11 | bilibino\n",
      "Processing Record 45 of Set 11 | catamarca\n",
      "Processing Record 46 of Set 11 | doka\n",
      "Processing Record 47 of Set 11 | ismailia\n",
      "City not found. Skipping...\n",
      "Processing Record 48 of Set 11 | ippy\n",
      "Processing Record 49 of Set 11 | bacolod\n",
      "City not found. Skipping...\n",
      "Processing Record 50 of Set 11 | lekoni\n",
      "Processing Record 0 of Set 12 | golden\n",
      "Processing Record 1 of Set 12 | alvaraes\n",
      "Processing Record 2 of Set 12 | tarakan\n",
      "Processing Record 3 of Set 12 | xichang\n",
      "Processing Record 4 of Set 12 | eyl\n",
      "Processing Record 5 of Set 12 | kendrapara\n",
      "Processing Record 6 of Set 12 | komsomolskiy\n"
     ]
    },
    {
     "name": "stdout",
     "output_type": "stream",
     "text": [
      "Processing Record 7 of Set 12 | turukhansk\n",
      "Processing Record 8 of Set 12 | cabinda\n",
      "Processing Record 9 of Set 12 | sinnamary\n",
      "Processing Record 10 of Set 12 | jutai\n",
      "Processing Record 11 of Set 12 | rehoboth\n",
      "Processing Record 12 of Set 12 | tiznit\n",
      "Processing Record 13 of Set 12 | novyy urgal\n",
      "Processing Record 14 of Set 12 | vasteras\n",
      "---------------------------------\n",
      "Data Retrevial Complete\n",
      "---------------------------------\n"
     ]
    }
   ],
   "source": [
    "print(\"Beginning Data Retrieval\")\n",
    "print(\"---------------------------------\")\n",
    "url = \"http://api.openweathermap.org/data/2.5/weather?\"\n",
    "units = \"imperial\"\n",
    "query_url = f\"{url}appid={weather_api_key}&units={units}&q=\"\n",
    "\n",
    "for index, city in enumerate(cities, start = 1):\n",
    "    try:\n",
    "        response = requests.get(query_url + city).json()\n",
    "        city_name.append(response[\"name\"])\n",
    "        cloudiness.append(response[\"clouds\"][\"all\"])\n",
    "        country.append(response[\"sys\"][\"country\"])\n",
    "        date.append(response[\"dt\"])\n",
    "        humidity.append(response[\"main\"][\"humidity\"])\n",
    "        latitude.append(response[\"coord\"][\"lat\"])\n",
    "        longitude.append(response[\"coord\"][\"lon\"])\n",
    "        max_temp.append(response[\"main\"][\"temp_max\"])\n",
    "        wind_speed.append(response[\"wind\"][\"speed\"])\n",
    "        if index_counter > 49:\n",
    "            index_counter = 0\n",
    "            set_counter = set_counter + 1\n",
    "        else:\n",
    "            index_counter = index_counter +1\n",
    "        \n",
    "        print(f\"Processing Record {index_counter} of Set {set_counter} | {city}\")\n",
    "        \n",
    "    except(KeyError, IndexError):\n",
    "        print(\"City not found. Skipping...\")\n",
    "        \n",
    "print(\"---------------------------------\")\n",
    "print(\"Data Retrevial Complete\")\n",
    "print(\"---------------------------------\")\n",
    "\n"
   ]
  },
  {
   "cell_type": "markdown",
   "metadata": {},
   "source": [
    "### Convert Raw Data to DataFrame\n",
    "* Export the city data into a .csv.\n",
    "* Display the DataFrame"
   ]
  },
  {
   "cell_type": "code",
   "execution_count": 5,
   "metadata": {},
   "outputs": [],
   "source": [
    "#creating data frame\n",
    "city_data = pd.DataFrame({\n",
    "        \"City\" : city_name,\n",
    "        \"Lat\" : latitude,\n",
    "        \"Lng\" : longitude,\n",
    "        \"Max Temp\" : max_temp,\n",
    "        \"Humidity\" : humidity,\n",
    "        \"Cloudiness\" : cloudiness,\n",
    "        \"Wind Speed\" : wind_speed,\n",
    "        \"Country\" : country,\n",
    "        \"Date\" : date\n",
    "})\n"
   ]
  },
  {
   "cell_type": "code",
   "execution_count": 6,
   "metadata": {},
   "outputs": [
    {
     "data": {
      "text/html": [
       "<div>\n",
       "<style scoped>\n",
       "    .dataframe tbody tr th:only-of-type {\n",
       "        vertical-align: middle;\n",
       "    }\n",
       "\n",
       "    .dataframe tbody tr th {\n",
       "        vertical-align: top;\n",
       "    }\n",
       "\n",
       "    .dataframe thead th {\n",
       "        text-align: right;\n",
       "    }\n",
       "</style>\n",
       "<table border=\"1\" class=\"dataframe\">\n",
       "  <thead>\n",
       "    <tr style=\"text-align: right;\">\n",
       "      <th></th>\n",
       "      <th>City</th>\n",
       "      <th>Lat</th>\n",
       "      <th>Lng</th>\n",
       "      <th>Max Temp</th>\n",
       "      <th>Humidity</th>\n",
       "      <th>Cloudiness</th>\n",
       "      <th>Wind Speed</th>\n",
       "      <th>Country</th>\n",
       "      <th>Date</th>\n",
       "    </tr>\n",
       "  </thead>\n",
       "  <tbody>\n",
       "    <tr>\n",
       "      <th>0</th>\n",
       "      <td>Prince Rupert</td>\n",
       "      <td>54.3161</td>\n",
       "      <td>-130.3201</td>\n",
       "      <td>49.69</td>\n",
       "      <td>72</td>\n",
       "      <td>100</td>\n",
       "      <td>5.75</td>\n",
       "      <td>CA</td>\n",
       "      <td>1635103817</td>\n",
       "    </tr>\n",
       "    <tr>\n",
       "      <th>1</th>\n",
       "      <td>Rikitea</td>\n",
       "      <td>-23.1203</td>\n",
       "      <td>-134.9692</td>\n",
       "      <td>74.70</td>\n",
       "      <td>72</td>\n",
       "      <td>23</td>\n",
       "      <td>17.83</td>\n",
       "      <td>PF</td>\n",
       "      <td>1635103919</td>\n",
       "    </tr>\n",
       "    <tr>\n",
       "      <th>2</th>\n",
       "      <td>Tuktoyaktuk</td>\n",
       "      <td>69.4541</td>\n",
       "      <td>-133.0374</td>\n",
       "      <td>30.20</td>\n",
       "      <td>93</td>\n",
       "      <td>75</td>\n",
       "      <td>2.30</td>\n",
       "      <td>CA</td>\n",
       "      <td>1635103920</td>\n",
       "    </tr>\n",
       "    <tr>\n",
       "      <th>3</th>\n",
       "      <td>Ushuaia</td>\n",
       "      <td>-54.8000</td>\n",
       "      <td>-68.3000</td>\n",
       "      <td>33.46</td>\n",
       "      <td>80</td>\n",
       "      <td>75</td>\n",
       "      <td>39.12</td>\n",
       "      <td>AR</td>\n",
       "      <td>1635103920</td>\n",
       "    </tr>\n",
       "    <tr>\n",
       "      <th>4</th>\n",
       "      <td>Raja</td>\n",
       "      <td>8.4596</td>\n",
       "      <td>25.6780</td>\n",
       "      <td>73.99</td>\n",
       "      <td>85</td>\n",
       "      <td>59</td>\n",
       "      <td>2.80</td>\n",
       "      <td>SS</td>\n",
       "      <td>1635103921</td>\n",
       "    </tr>\n",
       "    <tr>\n",
       "      <th>5</th>\n",
       "      <td>Kupang</td>\n",
       "      <td>-10.1667</td>\n",
       "      <td>123.5833</td>\n",
       "      <td>78.96</td>\n",
       "      <td>82</td>\n",
       "      <td>41</td>\n",
       "      <td>3.38</td>\n",
       "      <td>ID</td>\n",
       "      <td>1635103921</td>\n",
       "    </tr>\n",
       "    <tr>\n",
       "      <th>6</th>\n",
       "      <td>Port Alfred</td>\n",
       "      <td>-33.5906</td>\n",
       "      <td>26.8910</td>\n",
       "      <td>60.51</td>\n",
       "      <td>70</td>\n",
       "      <td>22</td>\n",
       "      <td>11.45</td>\n",
       "      <td>ZA</td>\n",
       "      <td>1635103772</td>\n",
       "    </tr>\n",
       "    <tr>\n",
       "      <th>7</th>\n",
       "      <td>Lüderitz</td>\n",
       "      <td>-26.6481</td>\n",
       "      <td>15.1594</td>\n",
       "      <td>62.98</td>\n",
       "      <td>59</td>\n",
       "      <td>0</td>\n",
       "      <td>16.15</td>\n",
       "      <td>NA</td>\n",
       "      <td>1635103373</td>\n",
       "    </tr>\n",
       "    <tr>\n",
       "      <th>8</th>\n",
       "      <td>Norman Wells</td>\n",
       "      <td>65.2820</td>\n",
       "      <td>-126.8329</td>\n",
       "      <td>23.04</td>\n",
       "      <td>93</td>\n",
       "      <td>90</td>\n",
       "      <td>4.61</td>\n",
       "      <td>CA</td>\n",
       "      <td>1635103086</td>\n",
       "    </tr>\n",
       "    <tr>\n",
       "      <th>9</th>\n",
       "      <td>Hobart</td>\n",
       "      <td>-42.8794</td>\n",
       "      <td>147.3294</td>\n",
       "      <td>48.06</td>\n",
       "      <td>76</td>\n",
       "      <td>75</td>\n",
       "      <td>1.01</td>\n",
       "      <td>AU</td>\n",
       "      <td>1635103809</td>\n",
       "    </tr>\n",
       "  </tbody>\n",
       "</table>\n",
       "</div>"
      ],
      "text/plain": [
       "            City      Lat       Lng  Max Temp  Humidity  Cloudiness  \\\n",
       "0  Prince Rupert  54.3161 -130.3201     49.69        72         100   \n",
       "1        Rikitea -23.1203 -134.9692     74.70        72          23   \n",
       "2    Tuktoyaktuk  69.4541 -133.0374     30.20        93          75   \n",
       "3        Ushuaia -54.8000  -68.3000     33.46        80          75   \n",
       "4           Raja   8.4596   25.6780     73.99        85          59   \n",
       "5         Kupang -10.1667  123.5833     78.96        82          41   \n",
       "6    Port Alfred -33.5906   26.8910     60.51        70          22   \n",
       "7       Lüderitz -26.6481   15.1594     62.98        59           0   \n",
       "8   Norman Wells  65.2820 -126.8329     23.04        93          90   \n",
       "9         Hobart -42.8794  147.3294     48.06        76          75   \n",
       "\n",
       "   Wind Speed Country        Date  \n",
       "0        5.75      CA  1635103817  \n",
       "1       17.83      PF  1635103919  \n",
       "2        2.30      CA  1635103920  \n",
       "3       39.12      AR  1635103920  \n",
       "4        2.80      SS  1635103921  \n",
       "5        3.38      ID  1635103921  \n",
       "6       11.45      ZA  1635103772  \n",
       "7       16.15      NA  1635103373  \n",
       "8        4.61      CA  1635103086  \n",
       "9        1.01      AU  1635103809  "
      ]
     },
     "execution_count": 6,
     "metadata": {},
     "output_type": "execute_result"
    }
   ],
   "source": [
    "#display dataframe\n",
    "city_data.head(10)"
   ]
  },
  {
   "cell_type": "code",
   "execution_count": 7,
   "metadata": {},
   "outputs": [
    {
     "data": {
      "text/html": [
       "<div>\n",
       "<style scoped>\n",
       "    .dataframe tbody tr th:only-of-type {\n",
       "        vertical-align: middle;\n",
       "    }\n",
       "\n",
       "    .dataframe tbody tr th {\n",
       "        vertical-align: top;\n",
       "    }\n",
       "\n",
       "    .dataframe thead th {\n",
       "        text-align: right;\n",
       "    }\n",
       "</style>\n",
       "<table border=\"1\" class=\"dataframe\">\n",
       "  <thead>\n",
       "    <tr style=\"text-align: right;\">\n",
       "      <th></th>\n",
       "      <th>City</th>\n",
       "      <th>Lat</th>\n",
       "      <th>Lng</th>\n",
       "      <th>Max Temp</th>\n",
       "      <th>Humidity</th>\n",
       "      <th>Cloudiness</th>\n",
       "      <th>Wind Speed</th>\n",
       "      <th>Country</th>\n",
       "      <th>Date</th>\n",
       "    </tr>\n",
       "  </thead>\n",
       "  <tbody>\n",
       "    <tr>\n",
       "      <th>0</th>\n",
       "      <td>Prince Rupert</td>\n",
       "      <td>54.3161</td>\n",
       "      <td>-130.3201</td>\n",
       "      <td>49.69</td>\n",
       "      <td>72</td>\n",
       "      <td>100</td>\n",
       "      <td>5.75</td>\n",
       "      <td>CA</td>\n",
       "      <td>1635103817</td>\n",
       "    </tr>\n",
       "    <tr>\n",
       "      <th>1</th>\n",
       "      <td>Rikitea</td>\n",
       "      <td>-23.1203</td>\n",
       "      <td>-134.9692</td>\n",
       "      <td>74.70</td>\n",
       "      <td>72</td>\n",
       "      <td>23</td>\n",
       "      <td>17.83</td>\n",
       "      <td>PF</td>\n",
       "      <td>1635103919</td>\n",
       "    </tr>\n",
       "    <tr>\n",
       "      <th>2</th>\n",
       "      <td>Tuktoyaktuk</td>\n",
       "      <td>69.4541</td>\n",
       "      <td>-133.0374</td>\n",
       "      <td>30.20</td>\n",
       "      <td>93</td>\n",
       "      <td>75</td>\n",
       "      <td>2.30</td>\n",
       "      <td>CA</td>\n",
       "      <td>1635103920</td>\n",
       "    </tr>\n",
       "    <tr>\n",
       "      <th>3</th>\n",
       "      <td>Ushuaia</td>\n",
       "      <td>-54.8000</td>\n",
       "      <td>-68.3000</td>\n",
       "      <td>33.46</td>\n",
       "      <td>80</td>\n",
       "      <td>75</td>\n",
       "      <td>39.12</td>\n",
       "      <td>AR</td>\n",
       "      <td>1635103920</td>\n",
       "    </tr>\n",
       "    <tr>\n",
       "      <th>4</th>\n",
       "      <td>Raja</td>\n",
       "      <td>8.4596</td>\n",
       "      <td>25.6780</td>\n",
       "      <td>73.99</td>\n",
       "      <td>85</td>\n",
       "      <td>59</td>\n",
       "      <td>2.80</td>\n",
       "      <td>SS</td>\n",
       "      <td>1635103921</td>\n",
       "    </tr>\n",
       "    <tr>\n",
       "      <th>...</th>\n",
       "      <td>...</td>\n",
       "      <td>...</td>\n",
       "      <td>...</td>\n",
       "      <td>...</td>\n",
       "      <td>...</td>\n",
       "      <td>...</td>\n",
       "      <td>...</td>\n",
       "      <td>...</td>\n",
       "      <td>...</td>\n",
       "    </tr>\n",
       "    <tr>\n",
       "      <th>570</th>\n",
       "      <td>Jutaí</td>\n",
       "      <td>-5.1833</td>\n",
       "      <td>-68.9000</td>\n",
       "      <td>90.14</td>\n",
       "      <td>55</td>\n",
       "      <td>97</td>\n",
       "      <td>2.73</td>\n",
       "      <td>BR</td>\n",
       "      <td>1635104080</td>\n",
       "    </tr>\n",
       "    <tr>\n",
       "      <th>571</th>\n",
       "      <td>Rehoboth</td>\n",
       "      <td>-23.3167</td>\n",
       "      <td>17.0833</td>\n",
       "      <td>69.58</td>\n",
       "      <td>22</td>\n",
       "      <td>0</td>\n",
       "      <td>9.31</td>\n",
       "      <td>NA</td>\n",
       "      <td>1635104081</td>\n",
       "    </tr>\n",
       "    <tr>\n",
       "      <th>572</th>\n",
       "      <td>Tiznit Province</td>\n",
       "      <td>29.5833</td>\n",
       "      <td>-9.5000</td>\n",
       "      <td>66.09</td>\n",
       "      <td>63</td>\n",
       "      <td>100</td>\n",
       "      <td>1.81</td>\n",
       "      <td>MA</td>\n",
       "      <td>1635103797</td>\n",
       "    </tr>\n",
       "    <tr>\n",
       "      <th>573</th>\n",
       "      <td>Novyy Urgal</td>\n",
       "      <td>51.0736</td>\n",
       "      <td>132.5642</td>\n",
       "      <td>27.32</td>\n",
       "      <td>96</td>\n",
       "      <td>19</td>\n",
       "      <td>2.06</td>\n",
       "      <td>RU</td>\n",
       "      <td>1635104081</td>\n",
       "    </tr>\n",
       "    <tr>\n",
       "      <th>574</th>\n",
       "      <td>Västerås</td>\n",
       "      <td>59.6162</td>\n",
       "      <td>16.5528</td>\n",
       "      <td>50.99</td>\n",
       "      <td>83</td>\n",
       "      <td>90</td>\n",
       "      <td>14.97</td>\n",
       "      <td>SE</td>\n",
       "      <td>1635103902</td>\n",
       "    </tr>\n",
       "  </tbody>\n",
       "</table>\n",
       "<p>575 rows × 9 columns</p>\n",
       "</div>"
      ],
      "text/plain": [
       "                City      Lat       Lng  Max Temp  Humidity  Cloudiness  \\\n",
       "0      Prince Rupert  54.3161 -130.3201     49.69        72         100   \n",
       "1            Rikitea -23.1203 -134.9692     74.70        72          23   \n",
       "2        Tuktoyaktuk  69.4541 -133.0374     30.20        93          75   \n",
       "3            Ushuaia -54.8000  -68.3000     33.46        80          75   \n",
       "4               Raja   8.4596   25.6780     73.99        85          59   \n",
       "..               ...      ...       ...       ...       ...         ...   \n",
       "570            Jutaí  -5.1833  -68.9000     90.14        55          97   \n",
       "571         Rehoboth -23.3167   17.0833     69.58        22           0   \n",
       "572  Tiznit Province  29.5833   -9.5000     66.09        63         100   \n",
       "573      Novyy Urgal  51.0736  132.5642     27.32        96          19   \n",
       "574         Västerås  59.6162   16.5528     50.99        83          90   \n",
       "\n",
       "     Wind Speed Country        Date  \n",
       "0          5.75      CA  1635103817  \n",
       "1         17.83      PF  1635103919  \n",
       "2          2.30      CA  1635103920  \n",
       "3         39.12      AR  1635103920  \n",
       "4          2.80      SS  1635103921  \n",
       "..          ...     ...         ...  \n",
       "570        2.73      BR  1635104080  \n",
       "571        9.31      NA  1635104081  \n",
       "572        1.81      MA  1635103797  \n",
       "573        2.06      RU  1635104081  \n",
       "574       14.97      SE  1635103902  \n",
       "\n",
       "[575 rows x 9 columns]"
      ]
     },
     "execution_count": 7,
     "metadata": {},
     "output_type": "execute_result"
    }
   ],
   "source": [
    "\n",
    "#Display the DataFrame\n",
    "city_data"
   ]
  },
  {
   "cell_type": "code",
   "execution_count": 8,
   "metadata": {},
   "outputs": [],
   "source": [
    "#export to CSV file\n",
    "\n",
    "city_data.to_csv(\"/Users/prajesh/Desktop/Class_Activity/Python_APIs/gt-virt-atl-data-pt-09-2021-u-c/02-Homework/06-Python-APIs/Instructions/output_data/cities.csv\", index = False)"
   ]
  },
  {
   "cell_type": "markdown",
   "metadata": {},
   "source": [
    "## Inspect the data and remove the cities where the humidity > 100%.\n",
    "----\n",
    "Skip this step if there are no cities that have humidity > 100%. "
   ]
  },
  {
   "cell_type": "code",
   "execution_count": 9,
   "metadata": {},
   "outputs": [
    {
     "name": "stdout",
     "output_type": "stream",
     "text": [
      "By inspection, the maximum humidity value is 100%, so there are no values greater than 100% in our data!\n"
     ]
    },
    {
     "data": {
      "text/plain": [
       "count    575.000000\n",
       "mean      72.994783\n",
       "std       19.394986\n",
       "min       10.000000\n",
       "25%       63.500000\n",
       "50%       76.000000\n",
       "75%       87.500000\n",
       "max      100.000000\n",
       "Name: Humidity, dtype: float64"
      ]
     },
     "execution_count": 9,
     "metadata": {},
     "output_type": "execute_result"
    }
   ],
   "source": [
    "test_humidity = city_data[\"Humidity\"].describe(include = \"all\")\n",
    "print(\"By inspection, the maximum humidity value is 100%, so there are no values greater than 100% in our data!\")\n",
    "\n",
    "test_humidity"
   ]
  },
  {
   "cell_type": "code",
   "execution_count": 10,
   "metadata": {},
   "outputs": [],
   "source": [
    "#  Get the indices of cities that have humidity over 100%.\n"
   ]
  },
  {
   "cell_type": "code",
   "execution_count": 11,
   "metadata": {},
   "outputs": [],
   "source": [
    "# Make a new DataFrame equal to the city data to drop all humidity outliers by index.\n",
    "# Passing \"inplace=False\" will make a copy of the city_data DataFrame, which we call \"clean_city_data\".\n"
   ]
  },
  {
   "cell_type": "code",
   "execution_count": null,
   "metadata": {},
   "outputs": [],
   "source": [
    "\n"
   ]
  },
  {
   "cell_type": "markdown",
   "metadata": {},
   "source": [
    "## Plotting the Data\n",
    "* Use proper labeling of the plots using plot titles (including date of analysis) and axes labels.\n",
    "* Save the plotted figures as .pngs."
   ]
  },
  {
   "cell_type": "markdown",
   "metadata": {},
   "source": [
    "## Latitude vs. Temperature Plot"
   ]
  },
  {
   "cell_type": "code",
   "execution_count": 12,
   "metadata": {
    "scrolled": true
   },
   "outputs": [
    {
     "data": {
      "image/png": "[encoded data removed]",
      "text/plain": [
       "<Figure size 432x288 with 1 Axes>"
      ]
     },
     "metadata": {
      "needs_background": "light"
     },
     "output_type": "display_data"
    }
   ],
   "source": [
    "#Size for the plotter charts\n",
    "#plt.figure(figsize = (10,8))\n",
    "\n",
    "#Apply type, dta, and configuration for visualization/graph\n",
    "plt.scatter(latitude,max_temp, linewidth=1, marker=\"o\")\n",
    "\n",
    "#Create the labels for the chart\n",
    "plt.title(\"City Latitude vs. Max Temperature (%s)\" %time.strftime(\"%x\"))\n",
    "plt.xlabel(\"Latitude\")\n",
    "plt.ylabel(\"Max Temperature (F)\")\n",
    "plt.grid(True)\n",
    "\n",
    "#Export graph to the image folder\n",
    "plt.savefig(\"/Users/prajesh/Desktop/Class_Activity/Python_APIs/gt-virt-atl-data-pt-09-2021-u-c/02-Homework/06-Python-APIs/Instructions/Images/Fig1.png\")"
   ]
  },
  {
   "cell_type": "markdown",
   "metadata": {},
   "source": [
    "## Latitude vs. Humidity Plot"
   ]
  },
  {
   "cell_type": "code",
   "execution_count": 13,
   "metadata": {
    "scrolled": false
   },
   "outputs": [
    {
     "data": {
      "image/png": "[encoded data removed]",
      "text/plain": [
       "<Figure size 432x288 with 1 Axes>"
      ]
     },
     "metadata": {
      "needs_background": "light"
     },
     "output_type": "display_data"
    }
   ],
   "source": [
    "#Size for the plotter charts\n",
    "#plt.figure(figsize = (10,8))\n",
    "\n",
    "#Apply type, dta, and configuration for visualization/graph\n",
    "plt.scatter(latitude,humidity, linewidth=1, marker=\"o\")\n",
    "\n",
    "#Create the labels for the chart\n",
    "plt.title(\"City Latitude vs. Humidity (%s)\" %time.strftime(\"%x\"))\n",
    "plt.xlabel(\"Latitude\")\n",
    "plt.ylabel(\"Humidity (%)\")\n",
    "plt.grid(True)\n",
    "\n",
    "#Export graph to the image folder\n",
    "plt.savefig(\"/Users/prajesh/Desktop/Class_Activity/Python_APIs/gt-virt-atl-data-pt-09-2021-u-c/02-Homework/06-Python-APIs/Instructions/Images/Fig2.png\")"
   ]
  },
  {
   "cell_type": "markdown",
   "metadata": {},
   "source": [
    "The Humidity vs. Latitude plot shown above, wich contains data from all cities. We can see that temps rise as we near 0 latitude. \n"
   ]
  },
  {
   "cell_type": "markdown",
   "metadata": {},
   "source": [
    "## Latitude vs. Cloudiness Plot"
   ]
  },
  {
   "cell_type": "code",
   "execution_count": 14,
   "metadata": {},
   "outputs": [
    {
     "data": {
      "image/png": "[encoded data removed]",
      "text/plain": [
       "<Figure size 432x288 with 1 Axes>"
      ]
     },
     "metadata": {
      "needs_background": "light"
     },
     "output_type": "display_data"
    }
   ],
   "source": [
    "#Size for the plotter charts\n",
    "#plt.figure(figsize = (10,8))\n",
    "\n",
    "#Apply type, dta, and configuration for visualization/graph\n",
    "plt.scatter(latitude,cloudiness, linewidth=1, marker=\"o\")\n",
    "\n",
    "#Create the labels for the chart\n",
    "plt.title(\"City Latitude vs. Cloudiness (%s)\" %time.strftime(\"%x\"))\n",
    "plt.xlabel(\"Latitude\")\n",
    "plt.ylabel(\"Cloudiness (%)\")\n",
    "plt.grid(True)\n",
    "\n",
    "#Export graph to the image folder\n",
    "plt.savefig(\"/Users/prajesh/Desktop/Class_Activity/Python_APIs/gt-virt-atl-data-pt-09-2021-u-c/02-Homework/06-Python-APIs/Instructions/Images/Fig3.png\")"
   ]
  },
  {
   "cell_type": "markdown",
   "metadata": {},
   "source": [
    "The above plot chart is between Cloudiness Vs Latitude. There seem to be some values of cloudiness that points cluster along mainly around 0, 20, 40, 75, 90, and 100."
   ]
  },
  {
   "cell_type": "markdown",
   "metadata": {},
   "source": [
    "## Latitude vs. Wind Speed Plot"
   ]
  },
  {
   "cell_type": "code",
   "execution_count": 15,
   "metadata": {},
   "outputs": [
    {
     "data": {
      "image/png": "[encoded data removed]",
      "text/plain": [
       "<Figure size 432x288 with 1 Axes>"
      ]
     },
     "metadata": {
      "needs_background": "light"
     },
     "output_type": "display_data"
    }
   ],
   "source": [
    "#Size for the plotter charts\n",
    "#plt.figure(figsize = (10,8))\n",
    "\n",
    "#Apply type, dta, and configuration for visualization/graph\n",
    "plt.scatter(latitude,wind_speed, linewidth=1, marker=\"o\")\n",
    "\n",
    "#Create the labels for the chart\n",
    "plt.title(\"City Latitude vs. Wind Speed (%s)\" %time.strftime(\"%x\"))\n",
    "plt.xlabel(\"Latitude\")\n",
    "plt.ylabel(\"Wind Speed (mph)\")\n",
    "plt.grid(True)\n",
    "\n",
    "#Export graph to the image folder\n",
    "plt.savefig(\"/Users/prajesh/Desktop/Class_Activity/Python_APIs/gt-virt-atl-data-pt-09-2021-u-c/02-Homework/06-Python-APIs/Instructions/Images/Fig4.png\")"
   ]
  },
  {
   "cell_type": "markdown",
   "metadata": {},
   "source": [
    "The Above scatter plot is between Wind Speed Vs Latitude. It seems like there is no clear pattern for the wind speed measured at distances from the equator. "
   ]
  },
  {
   "cell_type": "markdown",
   "metadata": {},
   "source": [
    "## Linear Regression"
   ]
  },
  {
   "cell_type": "code",
   "execution_count": 16,
   "metadata": {},
   "outputs": [
    {
     "data": {
      "text/plain": [
       "City          385\n",
       "Lat           385\n",
       "Lng           385\n",
       "Max Temp      385\n",
       "Humidity      385\n",
       "Cloudiness    385\n",
       "Wind Speed    385\n",
       "Country       385\n",
       "Date          385\n",
       "dtype: int64"
      ]
     },
     "execution_count": 16,
     "metadata": {},
     "output_type": "execute_result"
    }
   ],
   "source": [
    "northern_hem = city_data.loc[(city_data['Lat']>0 )]\n",
    "southern_hem = city_data.loc[(city_data['Lat']< 0 )]\n",
    "\n",
    "northern_hem.count()"
   ]
  },
  {
   "cell_type": "code",
   "execution_count": 17,
   "metadata": {},
   "outputs": [
    {
     "data": {
      "text/plain": [
       "City          190\n",
       "Lat           190\n",
       "Lng           190\n",
       "Max Temp      190\n",
       "Humidity      190\n",
       "Cloudiness    190\n",
       "Wind Speed    190\n",
       "Country       190\n",
       "Date          190\n",
       "dtype: int64"
      ]
     },
     "execution_count": 17,
     "metadata": {},
     "output_type": "execute_result"
    }
   ],
   "source": [
    "southern_hem.count()"
   ]
  },
  {
   "cell_type": "code",
   "execution_count": 18,
   "metadata": {},
   "outputs": [],
   "source": [
    "def line_reg(x,y,regEQplotX,regEQplotY,y_label):\n",
    "    (slope, intercept, rvalue, pvalue, stderr) = linregress(x, y)\n",
    "    regress_values = x * slope + intercept\n",
    "    line_equator = \"y = \" + str(round(slope,2)) + \"x + \" + str(round(intercept,2))\n",
    "    plt.scatter(x,y)\n",
    "    plt.plot(x,regress_values,\"r-\")\n",
    "    print(f'The r-value is {rvalue}')\n",
    "    print(line_equator)\n",
    "    plt.annotate(line_equator,(regEQplotX,regEQplotY),fontsize=15,color=\"red\")\n",
    "    plt.xlabel('Latitude')\n",
    "    plt.ylabel(f'{y_label}')\n",
    "    plt.grid()"
   ]
  },
  {
   "cell_type": "markdown",
   "metadata": {},
   "source": [
    "####  Northern Hemisphere - Max Temp vs. Latitude Linear Regression"
   ]
  },
  {
   "cell_type": "code",
   "execution_count": 19,
   "metadata": {},
   "outputs": [
    {
     "name": "stdout",
     "output_type": "stream",
     "text": [
      "The r-value is -0.8720871297016541\n",
      "y = -0.97x + 93.08\n"
     ]
    },
    {
     "data": {
      "image/png": "[encoded data removed]",
      "text/plain": [
       "<Figure size 432x288 with 1 Axes>"
      ]
     },
     "metadata": {
      "needs_background": "light"
     },
     "output_type": "display_data"
    }
   ],
   "source": [
    "x = northern_hem['Lat']\n",
    "y = northern_hem['Max Temp']\n",
    "regEQplotX = 10\n",
    "regEQplotY = -20\n",
    "y_label = \"Temperature (F)\"\n",
    "line_reg(x,y,regEQplotX,regEQplotY,y_label)\n",
    "\n",
    "plt.savefig(\"/Users/prajesh/Desktop/Class_Activity/Python_APIs/gt-virt-atl-data-pt-09-2021-u-c/02-Homework/06-Python-APIs/Instructions/Images/Northern_Temp_Vs_Latitude.png\")"
   ]
  },
  {
   "cell_type": "markdown",
   "metadata": {},
   "source": [
    "####  Southern Hemisphere - Max Temp vs. Latitude Linear Regression"
   ]
  },
  {
   "cell_type": "code",
   "execution_count": 20,
   "metadata": {},
   "outputs": [
    {
     "name": "stdout",
     "output_type": "stream",
     "text": [
      "The r-value is 0.752150279263796\n",
      "y = 0.62x + 84.09\n"
     ]
    },
    {
     "data": {
      "image/png": "[encoded data removed]",
      "text/plain": [
       "<Figure size 432x288 with 1 Axes>"
      ]
     },
     "metadata": {
      "needs_background": "light"
     },
     "output_type": "display_data"
    }
   ],
   "source": [
    "x = southern_hem[\"Lat\"]\n",
    "y = southern_hem[\"Max Temp\"]\n",
    "regEQplotX = -25\n",
    "regEQplotY = 40\n",
    "y_label = \"Temperature (F)\"\n",
    "plt.title(f'Southern Hemisphere Latitude vs Temp')\n",
    "line_reg(x,y,regEQplotX,regEQplotY,y_label)\n",
    "plt.savefig(f'../output_data/Southern Hemisphere Latitude vs Temp.png')\n",
    "plt.show()"
   ]
  },
  {
   "cell_type": "markdown",
   "metadata": {},
   "source": [
    "####  Northern Hemisphere - Humidity (%) vs. Latitude Linear Regression"
   ]
  },
  {
   "cell_type": "code",
   "execution_count": 21,
   "metadata": {},
   "outputs": [
    {
     "name": "stdout",
     "output_type": "stream",
     "text": [
      "The r-value is 0.23038412916055506\n",
      "y = 0.22x + 65.45\n"
     ]
    },
    {
     "data": {
      "image/png": "[encoded data removed]",
      "text/plain": [
       "<Figure size 432x288 with 1 Axes>"
      ]
     },
     "metadata": {
      "needs_background": "light"
     },
     "output_type": "display_data"
    }
   ],
   "source": [
    "x = northern_hem[\"Lat\"]\n",
    "y = northern_hem[\"Humidity\"]\n",
    "regEQplotX = 45\n",
    "regEQplotY = 10\n",
    "y_label = \"Humidity\"\n",
    "plt.title(f'Northern Hemisphere - Humidity (%) vs. Latitude Linear Regression')\n",
    "line_reg(x,y,regEQplotX,regEQplotY,y_label)\n",
    "plt.savefig(f'../output_data/Northern Hemisphere Latitude vs Humidity.png')\n",
    "plt.show()"
   ]
  },
  {
   "cell_type": "markdown",
   "metadata": {},
   "source": [
    "####  Southern Hemisphere - Humidity (%) vs. Latitude Linear Regression"
   ]
  },
  {
   "cell_type": "code",
   "execution_count": 22,
   "metadata": {},
   "outputs": [
    {
     "name": "stdout",
     "output_type": "stream",
     "text": [
      "The r-value is 0.19209169351873046\n",
      "y = 0.28x + 77.37\n"
     ]
    },
    {
     "data": {
      "image/png": "[encoded data removed]",
      "text/plain": [
       "<Figure size 432x288 with 1 Axes>"
      ]
     },
     "metadata": {
      "needs_background": "light"
     },
     "output_type": "display_data"
    }
   ],
   "source": [
    "x = southern_hem[\"Lat\"]\n",
    "y = southern_hem[\"Humidity\"]\n",
    "regEQplotX = -55\n",
    "regEQplotY = 10\n",
    "y_label = \"Humidity\"\n",
    "plt.title(f'Southern Hemisphere - Humidity (%) vs. Latitude Linear Regression')\n",
    "line_reg(x,y,regEQplotX,regEQplotY,y_label)\n",
    "plt.savefig(f'../output_data/Southern Hemisphere Latitude vs Humidity.png')\n",
    "plt.show()"
   ]
  },
  {
   "cell_type": "markdown",
   "metadata": {},
   "source": [
    "####  Northern Hemisphere - Cloudiness (%) vs. Latitude Linear Regression"
   ]
  },
  {
   "cell_type": "code",
   "execution_count": 23,
   "metadata": {},
   "outputs": [
    {
     "name": "stdout",
     "output_type": "stream",
     "text": [
      "The r-value is 0.22940862308857352\n",
      "y = 0.43x + 44.75\n"
     ]
    },
    {
     "data": {
      "image/png": "[encoded data removed]",
      "text/plain": [
       "<Figure size 432x288 with 1 Axes>"
      ]
     },
     "metadata": {
      "needs_background": "light"
     },
     "output_type": "display_data"
    }
   ],
   "source": [
    "x = northern_hem[\"Lat\"]\n",
    "y = northern_hem[\"Cloudiness\"]\n",
    "regEQplotX = 40\n",
    "regEQplotY = 10\n",
    "y_label = \"Cloudiness\"\n",
    "plt.title(f'Northern Hemisphere - Cloudiness (%) vs. Latitude Linear Regression')\n",
    "line_reg(x,y,regEQplotX,regEQplotY,y_label)\n",
    "plt.savefig(f'../output_data/Northern Hemisphere Latitude vs Cloudiness.png')\n",
    "plt.show()"
   ]
  },
  {
   "cell_type": "markdown",
   "metadata": {},
   "source": [
    "####  Southern Hemisphere - Cloudiness (%) vs. Latitude Linear Regression"
   ]
  },
  {
   "cell_type": "code",
   "execution_count": 24,
   "metadata": {},
   "outputs": [
    {
     "name": "stdout",
     "output_type": "stream",
     "text": [
      "The r-value is 0.17794902660209028\n",
      "y = 0.53x + 66.27\n"
     ]
    },
    {
     "data": {
      "image/png": "[encoded data removed]",
      "text/plain": [
       "<Figure size 432x288 with 1 Axes>"
      ]
     },
     "metadata": {
      "needs_background": "light"
     },
     "output_type": "display_data"
    }
   ],
   "source": [
    "x = southern_hem[\"Lat\"]\n",
    "y = southern_hem[\"Cloudiness\"]\n",
    "regEQplotX = -55\n",
    "regEQplotY = 10\n",
    "y_label = \"Cloudiness\"\n",
    "plt.title(f'Southern Hemisphere - Cloudiness (%) vs. Latitude Linear Regression')\n",
    "line_reg(x,y,regEQplotX,regEQplotY,y_label)\n",
    "plt.savefig(f'../output_data/Southern Hemisphere Latitude vs Cloudiness.png')\n",
    "plt.show()"
   ]
  },
  {
   "cell_type": "markdown",
   "metadata": {},
   "source": [
    "####  Northern Hemisphere - Wind Speed (mph) vs. Latitude Linear Regression"
   ]
  },
  {
   "cell_type": "code",
   "execution_count": 25,
   "metadata": {},
   "outputs": [
    {
     "name": "stdout",
     "output_type": "stream",
     "text": [
      "The r-value is 0.15051990124164114\n",
      "y = 0.04x + 5.57\n"
     ]
    },
    {
     "data": {
      "image/png": "[encoded data removed]",
      "text/plain": [
       "<Figure size 432x288 with 1 Axes>"
      ]
     },
     "metadata": {
      "needs_background": "light"
     },
     "output_type": "display_data"
    }
   ],
   "source": [
    "x = northern_hem[\"Lat\"]\n",
    "y = northern_hem[\"Wind Speed\"]\n",
    "regEQplotX = 25\n",
    "regEQplotY = 25\n",
    "y_label = \"Wind Speed\"\n",
    "plt.title(f'Northern Hemisphere - Wind Speed (mph) vs. Latitude Linear Regression')\n",
    "line_reg(x,y,regEQplotX,regEQplotY,y_label)\n",
    "plt.savefig(f'../output_data/Northern Hemisphere Latitude vs Wind Speed.png')\n",
    "plt.show()"
   ]
  },
  {
   "cell_type": "markdown",
   "metadata": {},
   "source": [
    "####  Southern Hemisphere - Wind Speed (mph) vs. Latitude Linear Regression"
   ]
  },
  {
   "cell_type": "code",
   "execution_count": 26,
   "metadata": {},
   "outputs": [
    {
     "name": "stdout",
     "output_type": "stream",
     "text": [
      "The r-value is -0.32366318248160963\n",
      "y = -0.16x + 4.91\n"
     ]
    },
    {
     "data": {
      "image/png": "[encoded data removed]",
      "text/plain": [
       "<Figure size 432x288 with 1 Axes>"
      ]
     },
     "metadata": {
      "needs_background": "light"
     },
     "output_type": "display_data"
    }
   ],
   "source": [
    "x = southern_hem[\"Lat\"]\n",
    "y = southern_hem[\"Wind Speed\"]\n",
    "regEQplotX = -55\n",
    "regEQplotY = 30\n",
    "y_label = \"Wind Speed\"\n",
    "plt.title(f'Southern Hemisphere - Wind Speed (mph) vs. Latitude Linear Regression')\n",
    "line_reg(x,y,regEQplotX,regEQplotY,y_label)\n",
    "plt.savefig(f'../output_data/Southern Hemisphere Latitude vs Wind Speed.png')\n",
    "plt.show()"
   ]
  },
  {
   "cell_type": "code",
   "execution_count": null,
   "metadata": {},
   "outputs": [],
   "source": []
  }
 ],
 "metadata": {
  "anaconda-cloud": {},
  "interpreter": {
   "hash": "31f2aee4e71d21fbe5cf8b01ff0e069b9275f58929596ceb00d14d90e3e16cd6"
  },
  "kernel_info": {
   "name": "python3"
  },
  "kernelspec": {
   "display_name": "Python 3",
   "language": "python",
   "name": "python3"
  },
  "language_info": {
   "codemirror_mode": {
    "name": "ipython",
    "version": 3
   },
   "file_extension": ".py",
   "mimetype": "text/x-python",
   "name": "python",
   "nbconvert_exporter": "python",
   "pygments_lexer": "ipython3",
   "version": "3.8.8"
  },
  "latex_envs": {
   "LaTeX_envs_menu_present": true,
   "autoclose": false,
   "autocomplete": true,
   "bibliofile": "biblio.bib",
   "cite_by": "apalike",
   "current_citInitial": 1,
   "eqLabelWithNumbers": true,
   "eqNumInitial": 1,
   "hotkeys": {
    "equation": "Ctrl-E",
    "itemize": "Ctrl-I"
   },
   "labels_anchors": false,
   "latex_user_defs": false,
   "report_style_numbering": false,
   "user_envs_cfg": false
  },
  "nteract": {
   "version": "0.12.3"
  }
 },
 "nbformat": 4,
 "nbformat_minor": 2
}
